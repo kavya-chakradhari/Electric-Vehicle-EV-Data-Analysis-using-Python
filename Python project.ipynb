{
 "cells": [
  {
   "cell_type": "markdown",
   "id": "27d2ce08-ab52-4c10-9731-863873084718",
   "metadata": {},
   "source": [
    "# Python Project"
   ]
  },
  {
   "cell_type": "markdown",
   "id": "8a6539cf-ba89-4173-85ea-8c2646dc72bb",
   "metadata": {},
   "source": [
    "# Electric Vehicle Data Analysis "
   ]
  },
  {
   "cell_type": "markdown",
   "id": "da988668-cabf-4127-833c-b1f29d1b39c8",
   "metadata": {},
   "source": [
    " Project Overview : \n",
    "This project analyze a dataset related to electric vehicles (EVs). The dataset contains\n",
    "electric range, energy consumption, price, and other relevant\n",
    "attributes. Our goal is to conduct a thorough analysis to uncover meaningful insights, tell a\n",
    " compelling story, conduct hypothesis testing and provide actionable recommendations based on\n",
    " the data."
   ]
  },
  {
   "cell_type": "code",
   "execution_count": 13,
   "id": "c2b24fb6-d00d-4204-a23a-95499f140f32",
   "metadata": {},
   "outputs": [],
   "source": [
    "# Importing all the python libraries which are necessary to perform the tasks. \n",
    "\n",
    "import pandas as pd\n",
    "import numpy as np\n",
    "import matplotlib.pyplot as plt\n",
    "import scipy.stats as stats "
   ]
  },
  {
   "cell_type": "code",
   "execution_count": null,
   "id": "11c77ca8-d132-4a19-9ce9-1027606caa38",
   "metadata": {
    "scrolled": true
   },
   "outputs": [],
   "source": [
    "# To read the dataframe , I've created a variable fev_df which contains the dataframe.\n",
    "\n",
    "fev_df = pd.read_excel(\"FEV-data-Excel.xlsx\") \n",
    "fev_df"
   ]
  },
  {
   "cell_type": "markdown",
   "id": "c1276e07-a10a-4eaf-aa04-fbf0652c1e9b",
   "metadata": {},
   "source": [
    "# Task 1"
   ]
  },
  {
   "cell_type": "markdown",
   "id": "329339f1-0d83-4e6c-a0a3-8749afe2171e",
   "metadata": {},
   "source": [
    " A customer has a budget of 350,000 PLN and wants an EV with a minimum range of 400 km."
   ]
  },
  {
   "cell_type": "markdown",
   "id": "d2073bd5-0a87-4b37-b2be-6821fe6de9a0",
   "metadata": {},
   "source": [
    "a) Task is to filter out EVs that meet these criteria"
   ]
  },
  {
   "cell_type": "markdown",
   "id": "ecbb988b-2254-41d7-b45a-3c25b5c73b63",
   "metadata": {},
   "source": [
    "b) Group them by the manufacturer"
   ]
  },
  {
   "cell_type": "markdown",
   "id": "499972d6-6366-4795-b79e-1b8da00decff",
   "metadata": {},
   "source": [
    "c) Calculate the average battery capacity for each manufacturer. "
   ]
  },
  {
   "cell_type": "code",
   "execution_count": 21,
   "id": "160f7d08-2e7f-4b88-b60b-70937be55f17",
   "metadata": {
    "scrolled": true
   },
   "outputs": [
    {
     "data": {
      "text/html": [
       "<div>\n",
       "<style scoped>\n",
       "    .dataframe tbody tr th:only-of-type {\n",
       "        vertical-align: middle;\n",
       "    }\n",
       "\n",
       "    .dataframe tbody tr th {\n",
       "        vertical-align: top;\n",
       "    }\n",
       "\n",
       "    .dataframe thead th {\n",
       "        text-align: right;\n",
       "    }\n",
       "</style>\n",
       "<table border=\"1\" class=\"dataframe\">\n",
       "  <thead>\n",
       "    <tr style=\"text-align: right;\">\n",
       "      <th></th>\n",
       "      <th>Car full name</th>\n",
       "      <th>Make</th>\n",
       "      <th>Model</th>\n",
       "      <th>Minimal price (gross) [PLN]</th>\n",
       "      <th>Engine power [KM]</th>\n",
       "      <th>Maximum torque [Nm]</th>\n",
       "      <th>Type of brakes</th>\n",
       "      <th>Drive type</th>\n",
       "      <th>Battery capacity [kWh]</th>\n",
       "      <th>Range (WLTP) [km]</th>\n",
       "      <th>...</th>\n",
       "      <th>Permissable gross weight [kg]</th>\n",
       "      <th>Maximum load capacity [kg]</th>\n",
       "      <th>Number of seats</th>\n",
       "      <th>Number of doors</th>\n",
       "      <th>Tire size [in]</th>\n",
       "      <th>Maximum speed [kph]</th>\n",
       "      <th>Boot capacity (VDA) [l]</th>\n",
       "      <th>Acceleration 0-100 kph [s]</th>\n",
       "      <th>Maximum DC charging power [kW]</th>\n",
       "      <th>mean - Energy consumption [kWh/100 km]</th>\n",
       "    </tr>\n",
       "  </thead>\n",
       "  <tbody>\n",
       "    <tr>\n",
       "      <th>0</th>\n",
       "      <td>Audi e-tron 55 quattro</td>\n",
       "      <td>Audi</td>\n",
       "      <td>e-tron 55 quattro</td>\n",
       "      <td>345700</td>\n",
       "      <td>360</td>\n",
       "      <td>664</td>\n",
       "      <td>disc (front + rear)</td>\n",
       "      <td>4WD</td>\n",
       "      <td>95.0</td>\n",
       "      <td>438</td>\n",
       "      <td>...</td>\n",
       "      <td>3130.0</td>\n",
       "      <td>640.0</td>\n",
       "      <td>5</td>\n",
       "      <td>5</td>\n",
       "      <td>19</td>\n",
       "      <td>200</td>\n",
       "      <td>660.0</td>\n",
       "      <td>5.7</td>\n",
       "      <td>150</td>\n",
       "      <td>24.45</td>\n",
       "    </tr>\n",
       "    <tr>\n",
       "      <th>8</th>\n",
       "      <td>BMW iX3</td>\n",
       "      <td>BMW</td>\n",
       "      <td>iX3</td>\n",
       "      <td>282900</td>\n",
       "      <td>286</td>\n",
       "      <td>400</td>\n",
       "      <td>disc (front + rear)</td>\n",
       "      <td>2WD (rear)</td>\n",
       "      <td>80.0</td>\n",
       "      <td>460</td>\n",
       "      <td>...</td>\n",
       "      <td>2725.0</td>\n",
       "      <td>540.0</td>\n",
       "      <td>5</td>\n",
       "      <td>5</td>\n",
       "      <td>19</td>\n",
       "      <td>180</td>\n",
       "      <td>510.0</td>\n",
       "      <td>6.8</td>\n",
       "      <td>150</td>\n",
       "      <td>18.80</td>\n",
       "    </tr>\n",
       "    <tr>\n",
       "      <th>15</th>\n",
       "      <td>Hyundai Kona electric 64kWh</td>\n",
       "      <td>Hyundai</td>\n",
       "      <td>Kona electric 64kWh</td>\n",
       "      <td>178400</td>\n",
       "      <td>204</td>\n",
       "      <td>395</td>\n",
       "      <td>disc (front + rear)</td>\n",
       "      <td>2WD (front)</td>\n",
       "      <td>64.0</td>\n",
       "      <td>449</td>\n",
       "      <td>...</td>\n",
       "      <td>2170.0</td>\n",
       "      <td>485.0</td>\n",
       "      <td>5</td>\n",
       "      <td>5</td>\n",
       "      <td>17</td>\n",
       "      <td>167</td>\n",
       "      <td>332.0</td>\n",
       "      <td>7.6</td>\n",
       "      <td>100</td>\n",
       "      <td>15.40</td>\n",
       "    </tr>\n",
       "    <tr>\n",
       "      <th>18</th>\n",
       "      <td>Kia e-Niro 64kWh</td>\n",
       "      <td>Kia</td>\n",
       "      <td>e-Niro 64kWh</td>\n",
       "      <td>167990</td>\n",
       "      <td>204</td>\n",
       "      <td>395</td>\n",
       "      <td>disc (front + rear)</td>\n",
       "      <td>2WD (front)</td>\n",
       "      <td>64.0</td>\n",
       "      <td>455</td>\n",
       "      <td>...</td>\n",
       "      <td>2230.0</td>\n",
       "      <td>493.0</td>\n",
       "      <td>5</td>\n",
       "      <td>5</td>\n",
       "      <td>17</td>\n",
       "      <td>167</td>\n",
       "      <td>451.0</td>\n",
       "      <td>7.8</td>\n",
       "      <td>100</td>\n",
       "      <td>15.90</td>\n",
       "    </tr>\n",
       "    <tr>\n",
       "      <th>20</th>\n",
       "      <td>Kia e-Soul 64kWh</td>\n",
       "      <td>Kia</td>\n",
       "      <td>e-Soul 64kWh</td>\n",
       "      <td>160990</td>\n",
       "      <td>204</td>\n",
       "      <td>395</td>\n",
       "      <td>disc (front + rear)</td>\n",
       "      <td>2WD (front)</td>\n",
       "      <td>64.0</td>\n",
       "      <td>452</td>\n",
       "      <td>...</td>\n",
       "      <td>1682.0</td>\n",
       "      <td>498.0</td>\n",
       "      <td>5</td>\n",
       "      <td>5</td>\n",
       "      <td>17</td>\n",
       "      <td>167</td>\n",
       "      <td>315.0</td>\n",
       "      <td>7.9</td>\n",
       "      <td>100</td>\n",
       "      <td>15.70</td>\n",
       "    </tr>\n",
       "    <tr>\n",
       "      <th>22</th>\n",
       "      <td>Mercedes-Benz EQC</td>\n",
       "      <td>Mercedes-Benz</td>\n",
       "      <td>EQC</td>\n",
       "      <td>334700</td>\n",
       "      <td>408</td>\n",
       "      <td>760</td>\n",
       "      <td>disc (front + rear)</td>\n",
       "      <td>4WD</td>\n",
       "      <td>80.0</td>\n",
       "      <td>414</td>\n",
       "      <td>...</td>\n",
       "      <td>2940.0</td>\n",
       "      <td>445.0</td>\n",
       "      <td>5</td>\n",
       "      <td>5</td>\n",
       "      <td>19</td>\n",
       "      <td>180</td>\n",
       "      <td>500.0</td>\n",
       "      <td>5.1</td>\n",
       "      <td>110</td>\n",
       "      <td>21.85</td>\n",
       "    </tr>\n",
       "    <tr>\n",
       "      <th>39</th>\n",
       "      <td>Tesla Model 3 Standard Range Plus</td>\n",
       "      <td>Tesla</td>\n",
       "      <td>Model 3 Standard Range Plus</td>\n",
       "      <td>195490</td>\n",
       "      <td>285</td>\n",
       "      <td>450</td>\n",
       "      <td>disc (front + rear)</td>\n",
       "      <td>2WD (rear)</td>\n",
       "      <td>54.0</td>\n",
       "      <td>430</td>\n",
       "      <td>...</td>\n",
       "      <td>NaN</td>\n",
       "      <td>NaN</td>\n",
       "      <td>5</td>\n",
       "      <td>5</td>\n",
       "      <td>18</td>\n",
       "      <td>225</td>\n",
       "      <td>425.0</td>\n",
       "      <td>5.6</td>\n",
       "      <td>150</td>\n",
       "      <td>NaN</td>\n",
       "    </tr>\n",
       "    <tr>\n",
       "      <th>40</th>\n",
       "      <td>Tesla Model 3 Long Range</td>\n",
       "      <td>Tesla</td>\n",
       "      <td>Model 3 Long Range</td>\n",
       "      <td>235490</td>\n",
       "      <td>372</td>\n",
       "      <td>510</td>\n",
       "      <td>disc (front + rear)</td>\n",
       "      <td>4WD</td>\n",
       "      <td>75.0</td>\n",
       "      <td>580</td>\n",
       "      <td>...</td>\n",
       "      <td>NaN</td>\n",
       "      <td>NaN</td>\n",
       "      <td>5</td>\n",
       "      <td>5</td>\n",
       "      <td>18</td>\n",
       "      <td>233</td>\n",
       "      <td>425.0</td>\n",
       "      <td>4.4</td>\n",
       "      <td>150</td>\n",
       "      <td>NaN</td>\n",
       "    </tr>\n",
       "    <tr>\n",
       "      <th>41</th>\n",
       "      <td>Tesla Model 3 Performance</td>\n",
       "      <td>Tesla</td>\n",
       "      <td>Model 3 Performance</td>\n",
       "      <td>260490</td>\n",
       "      <td>480</td>\n",
       "      <td>639</td>\n",
       "      <td>disc (front + rear)</td>\n",
       "      <td>4WD</td>\n",
       "      <td>75.0</td>\n",
       "      <td>567</td>\n",
       "      <td>...</td>\n",
       "      <td>NaN</td>\n",
       "      <td>NaN</td>\n",
       "      <td>5</td>\n",
       "      <td>5</td>\n",
       "      <td>20</td>\n",
       "      <td>261</td>\n",
       "      <td>425.0</td>\n",
       "      <td>3.3</td>\n",
       "      <td>150</td>\n",
       "      <td>NaN</td>\n",
       "    </tr>\n",
       "    <tr>\n",
       "      <th>47</th>\n",
       "      <td>Volkswagen ID.3 Pro Performance</td>\n",
       "      <td>Volkswagen</td>\n",
       "      <td>ID.3 Pro Performance</td>\n",
       "      <td>155890</td>\n",
       "      <td>204</td>\n",
       "      <td>310</td>\n",
       "      <td>disc (front) + drum (rear)</td>\n",
       "      <td>2WD (rear)</td>\n",
       "      <td>58.0</td>\n",
       "      <td>425</td>\n",
       "      <td>...</td>\n",
       "      <td>2270.0</td>\n",
       "      <td>540.0</td>\n",
       "      <td>5</td>\n",
       "      <td>5</td>\n",
       "      <td>18</td>\n",
       "      <td>160</td>\n",
       "      <td>385.0</td>\n",
       "      <td>7.3</td>\n",
       "      <td>100</td>\n",
       "      <td>15.40</td>\n",
       "    </tr>\n",
       "    <tr>\n",
       "      <th>48</th>\n",
       "      <td>Volkswagen ID.3 Pro S</td>\n",
       "      <td>Volkswagen</td>\n",
       "      <td>ID.3 Pro S</td>\n",
       "      <td>179990</td>\n",
       "      <td>204</td>\n",
       "      <td>310</td>\n",
       "      <td>disc (front) + drum (rear)</td>\n",
       "      <td>2WD (rear)</td>\n",
       "      <td>77.0</td>\n",
       "      <td>549</td>\n",
       "      <td>...</td>\n",
       "      <td>2280.0</td>\n",
       "      <td>412.0</td>\n",
       "      <td>5</td>\n",
       "      <td>5</td>\n",
       "      <td>19</td>\n",
       "      <td>160</td>\n",
       "      <td>385.0</td>\n",
       "      <td>7.9</td>\n",
       "      <td>125</td>\n",
       "      <td>15.90</td>\n",
       "    </tr>\n",
       "    <tr>\n",
       "      <th>49</th>\n",
       "      <td>Volkswagen ID.4 1st</td>\n",
       "      <td>Volkswagen</td>\n",
       "      <td>ID.4 1st</td>\n",
       "      <td>202390</td>\n",
       "      <td>204</td>\n",
       "      <td>310</td>\n",
       "      <td>disc (front) + drum (rear)</td>\n",
       "      <td>2WD (rear)</td>\n",
       "      <td>77.0</td>\n",
       "      <td>500</td>\n",
       "      <td>...</td>\n",
       "      <td>2660.0</td>\n",
       "      <td>661.0</td>\n",
       "      <td>5</td>\n",
       "      <td>5</td>\n",
       "      <td>20</td>\n",
       "      <td>160</td>\n",
       "      <td>543.0</td>\n",
       "      <td>8.5</td>\n",
       "      <td>125</td>\n",
       "      <td>18.00</td>\n",
       "    </tr>\n",
       "  </tbody>\n",
       "</table>\n",
       "<p>12 rows × 25 columns</p>\n",
       "</div>"
      ],
      "text/plain": [
       "                        Car full name           Make  \\\n",
       "0              Audi e-tron 55 quattro           Audi   \n",
       "8                             BMW iX3            BMW   \n",
       "15        Hyundai Kona electric 64kWh        Hyundai   \n",
       "18                   Kia e-Niro 64kWh            Kia   \n",
       "20                   Kia e-Soul 64kWh            Kia   \n",
       "22                  Mercedes-Benz EQC  Mercedes-Benz   \n",
       "39  Tesla Model 3 Standard Range Plus          Tesla   \n",
       "40           Tesla Model 3 Long Range          Tesla   \n",
       "41          Tesla Model 3 Performance          Tesla   \n",
       "47    Volkswagen ID.3 Pro Performance     Volkswagen   \n",
       "48              Volkswagen ID.3 Pro S     Volkswagen   \n",
       "49                Volkswagen ID.4 1st     Volkswagen   \n",
       "\n",
       "                          Model  Minimal price (gross) [PLN]  \\\n",
       "0             e-tron 55 quattro                       345700   \n",
       "8                           iX3                       282900   \n",
       "15          Kona electric 64kWh                       178400   \n",
       "18                 e-Niro 64kWh                       167990   \n",
       "20                 e-Soul 64kWh                       160990   \n",
       "22                          EQC                       334700   \n",
       "39  Model 3 Standard Range Plus                       195490   \n",
       "40           Model 3 Long Range                       235490   \n",
       "41          Model 3 Performance                       260490   \n",
       "47         ID.3 Pro Performance                       155890   \n",
       "48                   ID.3 Pro S                       179990   \n",
       "49                     ID.4 1st                       202390   \n",
       "\n",
       "    Engine power [KM]  Maximum torque [Nm]              Type of brakes  \\\n",
       "0                 360                  664         disc (front + rear)   \n",
       "8                 286                  400         disc (front + rear)   \n",
       "15                204                  395         disc (front + rear)   \n",
       "18                204                  395         disc (front + rear)   \n",
       "20                204                  395         disc (front + rear)   \n",
       "22                408                  760         disc (front + rear)   \n",
       "39                285                  450         disc (front + rear)   \n",
       "40                372                  510         disc (front + rear)   \n",
       "41                480                  639         disc (front + rear)   \n",
       "47                204                  310  disc (front) + drum (rear)   \n",
       "48                204                  310  disc (front) + drum (rear)   \n",
       "49                204                  310  disc (front) + drum (rear)   \n",
       "\n",
       "     Drive type  Battery capacity [kWh]  Range (WLTP) [km]  ...  \\\n",
       "0           4WD                    95.0                438  ...   \n",
       "8    2WD (rear)                    80.0                460  ...   \n",
       "15  2WD (front)                    64.0                449  ...   \n",
       "18  2WD (front)                    64.0                455  ...   \n",
       "20  2WD (front)                    64.0                452  ...   \n",
       "22          4WD                    80.0                414  ...   \n",
       "39   2WD (rear)                    54.0                430  ...   \n",
       "40          4WD                    75.0                580  ...   \n",
       "41          4WD                    75.0                567  ...   \n",
       "47   2WD (rear)                    58.0                425  ...   \n",
       "48   2WD (rear)                    77.0                549  ...   \n",
       "49   2WD (rear)                    77.0                500  ...   \n",
       "\n",
       "    Permissable gross weight [kg]  Maximum load capacity [kg]  \\\n",
       "0                          3130.0                       640.0   \n",
       "8                          2725.0                       540.0   \n",
       "15                         2170.0                       485.0   \n",
       "18                         2230.0                       493.0   \n",
       "20                         1682.0                       498.0   \n",
       "22                         2940.0                       445.0   \n",
       "39                            NaN                         NaN   \n",
       "40                            NaN                         NaN   \n",
       "41                            NaN                         NaN   \n",
       "47                         2270.0                       540.0   \n",
       "48                         2280.0                       412.0   \n",
       "49                         2660.0                       661.0   \n",
       "\n",
       "    Number of seats  Number of doors  Tire size [in]  Maximum speed [kph]  \\\n",
       "0                 5                5              19                  200   \n",
       "8                 5                5              19                  180   \n",
       "15                5                5              17                  167   \n",
       "18                5                5              17                  167   \n",
       "20                5                5              17                  167   \n",
       "22                5                5              19                  180   \n",
       "39                5                5              18                  225   \n",
       "40                5                5              18                  233   \n",
       "41                5                5              20                  261   \n",
       "47                5                5              18                  160   \n",
       "48                5                5              19                  160   \n",
       "49                5                5              20                  160   \n",
       "\n",
       "    Boot capacity (VDA) [l]  Acceleration 0-100 kph [s]  \\\n",
       "0                     660.0                         5.7   \n",
       "8                     510.0                         6.8   \n",
       "15                    332.0                         7.6   \n",
       "18                    451.0                         7.8   \n",
       "20                    315.0                         7.9   \n",
       "22                    500.0                         5.1   \n",
       "39                    425.0                         5.6   \n",
       "40                    425.0                         4.4   \n",
       "41                    425.0                         3.3   \n",
       "47                    385.0                         7.3   \n",
       "48                    385.0                         7.9   \n",
       "49                    543.0                         8.5   \n",
       "\n",
       "    Maximum DC charging power [kW]  mean - Energy consumption [kWh/100 km]  \n",
       "0                              150                                   24.45  \n",
       "8                              150                                   18.80  \n",
       "15                             100                                   15.40  \n",
       "18                             100                                   15.90  \n",
       "20                             100                                   15.70  \n",
       "22                             110                                   21.85  \n",
       "39                             150                                     NaN  \n",
       "40                             150                                     NaN  \n",
       "41                             150                                     NaN  \n",
       "47                             100                                   15.40  \n",
       "48                             125                                   15.90  \n",
       "49                             125                                   18.00  \n",
       "\n",
       "[12 rows x 25 columns]"
      ]
     },
     "execution_count": 21,
     "metadata": {},
     "output_type": "execute_result"
    }
   ],
   "source": [
    "EVs_under_budget= fev_df[ (fev_df[\"Minimal price (gross) [PLN]\"]<=350000) & (fev_df[\"Range (WLTP) [km]\"]>=400) ]\n",
    "EVs_under_budget"
   ]
  },
  {
   "cell_type": "code",
   "execution_count": 135,
   "id": "34e50167-d179-44e1-b067-a309bfeb6fe1",
   "metadata": {},
   "outputs": [
    {
     "name": "stdout",
     "output_type": "stream",
     "text": [
      "\n",
      " EVs by Manufacture: \n",
      "\n"
     ]
    },
    {
     "data": {
      "text/plain": [
       "Make\n",
       "Audi             1\n",
       "BMW              1\n",
       "Hyundai          1\n",
       "Kia              2\n",
       "Mercedes-Benz    1\n",
       "Tesla            3\n",
       "Volkswagen       3\n",
       "Name: Make, dtype: int64"
      ]
     },
     "execution_count": 135,
     "metadata": {},
     "output_type": "execute_result"
    }
   ],
   "source": [
    "grouped_by_manufacture = EVs_under_budget.groupby(\"Make\")[\"Make\"].count()\n",
    "\n",
    "print(\"\\n EVs by Manufacture: \\n\")\n",
    "\n",
    "grouped_by_manufacture "
   ]
  },
  {
   "cell_type": "code",
   "execution_count": 39,
   "id": "dd959f12-3a01-493b-a383-b7f0fb7ddc09",
   "metadata": {},
   "outputs": [
    {
     "name": "stdout",
     "output_type": "stream",
     "text": [
      "Average battery capacity of EVs\n"
     ]
    },
    {
     "data": {
      "text/plain": [
       "Make\n",
       "Audi             95.000000\n",
       "BMW              80.000000\n",
       "Hyundai          64.000000\n",
       "Kia              64.000000\n",
       "Mercedes-Benz    80.000000\n",
       "Tesla            68.000000\n",
       "Volkswagen       70.666667\n",
       "Name: Battery capacity [kWh], dtype: float64"
      ]
     },
     "execution_count": 39,
     "metadata": {},
     "output_type": "execute_result"
    }
   ],
   "source": [
    "avg_battery_capacity= EVs_under_budget.groupby(\"Make\")[\"Battery capacity [kWh]\"].mean()\n",
    "\n",
    "print(\"Average battery capacity of EVs\")\n",
    "\n",
    "avg_battery_capacity"
   ]
  },
  {
   "cell_type": "markdown",
   "id": "09239db3-2f9a-4c30-9eaa-07906ea266de",
   "metadata": {},
   "source": [
    "  Key findings \n",
    "* We have total 53 EVs out of which 12 EVs are under budget(i.e. 3500000) and desired range(>=400). \n",
    "* Manufactures like Tesla and Volkswagen holds highest number of EVs under budget.\n",
    "* Audi has the highest average battery capacity"
   ]
  },
  {
   "cell_type": "markdown",
   "id": "0bbd0b66-9619-4f9e-ab94-0ffd88029532",
   "metadata": {},
   "source": [
    "## Task 2"
   ]
  },
  {
   "cell_type": "markdown",
   "id": "67cd6972-4de2-4468-ad0a-ba1c604d8481",
   "metadata": {},
   "source": [
    " #### You suspect some EVs have unusually high or low energy consumption. Find the outliers in the mean- Energy consumption [kWh/100 km] column."
   ]
  },
  {
   "cell_type": "markdown",
   "id": "4e972227-0f6a-4d2d-bf16-38962598bcfd",
   "metadata": {},
   "source": [
    "IQR is used to detect outliers, it is defined as the difference between the 75th percentiles(Q3) and 25th percentiles(Q1) of the data.\n",
    "  * IQR = Q3 - Q1\n",
    "  * upper bound= Q3 + (1.5* IQR)\n",
    "  * lower bound= Q1 - (1.5* IQR)"
   ]
  },
  {
   "cell_type": "code",
   "execution_count": 72,
   "id": "ea776368-428c-48c4-803d-f5b7891d18b9",
   "metadata": {},
   "outputs": [
    {
     "data": {
      "text/plain": [
       "7.9"
      ]
     },
     "execution_count": 72,
     "metadata": {},
     "output_type": "execute_result"
    }
   ],
   "source": [
    "Q1 = fev_df[\"mean - Energy consumption [kWh/100 km]\"].quantile(0.25)\n",
    "Q3 = fev_df[\"mean - Energy consumption [kWh/100 km]\"].quantile(0.75)\n",
    "\n",
    "IQR = Q3-Q1\n",
    "IQR"
   ]
  },
  {
   "cell_type": "code",
   "execution_count": 79,
   "id": "6d2865bf-f05f-44cd-96a5-acd99e6432f5",
   "metadata": {},
   "outputs": [
    {
     "name": "stdout",
     "output_type": "stream",
     "text": [
      "35.35\n",
      "3.7499999999999982\n"
     ]
    }
   ],
   "source": [
    "upper_bound = Q3 + (IQR*1.5)\n",
    "lower_bound = Q1 - (IQR*1.5)\n",
    "print(upper_bound)\n",
    "print(lower_bound)"
   ]
  },
  {
   "cell_type": "code",
   "execution_count": 81,
   "id": "fe172d31-208a-4077-9a91-5760fc69fe84",
   "metadata": {},
   "outputs": [
    {
     "data": {
      "text/html": [
       "<div>\n",
       "<style scoped>\n",
       "    .dataframe tbody tr th:only-of-type {\n",
       "        vertical-align: middle;\n",
       "    }\n",
       "\n",
       "    .dataframe tbody tr th {\n",
       "        vertical-align: top;\n",
       "    }\n",
       "\n",
       "    .dataframe thead th {\n",
       "        text-align: right;\n",
       "    }\n",
       "</style>\n",
       "<table border=\"1\" class=\"dataframe\">\n",
       "  <thead>\n",
       "    <tr style=\"text-align: right;\">\n",
       "      <th></th>\n",
       "      <th>Car full name</th>\n",
       "      <th>Make</th>\n",
       "      <th>Model</th>\n",
       "      <th>Minimal price (gross) [PLN]</th>\n",
       "      <th>Engine power [KM]</th>\n",
       "      <th>Maximum torque [Nm]</th>\n",
       "      <th>Type of brakes</th>\n",
       "      <th>Drive type</th>\n",
       "      <th>Battery capacity [kWh]</th>\n",
       "      <th>Range (WLTP) [km]</th>\n",
       "      <th>...</th>\n",
       "      <th>Permissable gross weight [kg]</th>\n",
       "      <th>Maximum load capacity [kg]</th>\n",
       "      <th>Number of seats</th>\n",
       "      <th>Number of doors</th>\n",
       "      <th>Tire size [in]</th>\n",
       "      <th>Maximum speed [kph]</th>\n",
       "      <th>Boot capacity (VDA) [l]</th>\n",
       "      <th>Acceleration 0-100 kph [s]</th>\n",
       "      <th>Maximum DC charging power [kW]</th>\n",
       "      <th>mean - Energy consumption [kWh/100 km]</th>\n",
       "    </tr>\n",
       "  </thead>\n",
       "  <tbody>\n",
       "  </tbody>\n",
       "</table>\n",
       "<p>0 rows × 25 columns</p>\n",
       "</div>"
      ],
      "text/plain": [
       "Empty DataFrame\n",
       "Columns: [Car full name, Make, Model, Minimal price (gross) [PLN], Engine power [KM], Maximum torque [Nm], Type of brakes, Drive type, Battery capacity [kWh], Range (WLTP) [km], Wheelbase [cm], Length [cm], Width [cm], Height [cm], Minimal empty weight [kg], Permissable gross weight [kg], Maximum load capacity [kg], Number of seats, Number of doors, Tire size [in], Maximum speed [kph], Boot capacity (VDA) [l], Acceleration 0-100 kph [s], Maximum DC charging power [kW], mean - Energy consumption [kWh/100 km]]\n",
       "Index: []\n",
       "\n",
       "[0 rows x 25 columns]"
      ]
     },
     "execution_count": 81,
     "metadata": {},
     "output_type": "execute_result"
    }
   ],
   "source": [
    "outliers = fev_df[(fev_df['mean - Energy consumption [kWh/100 km]'] < lower_bound) | (fev_df['mean - Energy consumption [kWh/100 km]'] > upper_bound)]\n",
    "outliers"
   ]
  },
  {
   "cell_type": "markdown",
   "id": "a37202e6-3d28-43e1-b222-c9248e388c4a",
   "metadata": {},
   "source": [
    "Key Finding\n",
    "\n",
    "* No Outliers Detected: After applying the IQR method, the analysis revealed that there are no outliers in the mean-energy consumption for the EVs.\n",
    "It means that the energy comsumption values falls within a normal range and no any EV showed significant higher or lower energy consumption."
   ]
  },
  {
   "cell_type": "markdown",
   "id": "f6d15706-c550-48f3-a785-0d9ccdb0c690",
   "metadata": {},
   "source": [
    "Insights\n",
    "   * The absence of outliers in energy consumption indicates that most of the EVs in the dataset are relatively consistent in terms of how efficiently they use energy.\n",
    "   *  The absence of outliers also indicate that the data is trust worthy and there were no errors or irregularities in the mean-energy consumption.\n",
    "   *  Since no outliers were found, we can conclude that factors like vehicle design, battery capcity and engine power likely have a uniform effect on energy consumption across the vehicles in the dataset."
   ]
  },
  {
   "cell_type": "markdown",
   "id": "94614757-c725-4ac9-9182-2c448d5c0315",
   "metadata": {},
   "source": [
    "# Task 3"
   ]
  },
  {
   "cell_type": "markdown",
   "id": "e995e6cf-e6b4-4488-b030-53c1717fce2e",
   "metadata": {},
   "source": [
    "Your manager wants to know if there's a strong relationship between battery capacity and range."
   ]
  },
  {
   "cell_type": "markdown",
   "id": "dc850a98-a0a4-4bbc-90f4-395c3e5ad4e0",
   "metadata": {},
   "source": [
    "a) Create a suitable plot to visualize."
   ]
  },
  {
   "cell_type": "markdown",
   "id": "76ea8e9e-f85e-4ddb-b99e-3324a285c34e",
   "metadata": {},
   "source": [
    "b) Highlight any insights."
   ]
  },
  {
   "cell_type": "code",
   "execution_count": 61,
   "id": "80f8eacf-15d8-4ed3-94fa-77d0e54793d8",
   "metadata": {},
   "outputs": [
    {
     "data": {
      "image/png": "[encoded data removed]",
      "text/plain": [
       "<Figure size 1000x600 with 1 Axes>"
      ]
     },
     "metadata": {},
     "output_type": "display_data"
    }
   ],
   "source": [
    "plt.figure(figsize=(10,6))\n",
    "plt.scatter(fev_df['Battery capacity [kWh]'], fev_df['Range (WLTP) [km]'], alpha=0.5)\n",
    "plt.title('Relationship Between Battery Capacity and Range')\n",
    "plt.xlabel('Battery Capacity [kWh]')\n",
    "plt.ylabel('Range (WLTP) [km]')\n",
    "plt.grid(True)\n",
    "plt.show()\n"
   ]
  },
  {
   "cell_type": "markdown",
   "id": "f6731cd0-6410-4a4b-99b4-4f42c946edd0",
   "metadata": {},
   "source": [
    "Insights \n",
    "\n",
    "* Positive Correlation: The Battery capacity and Range shows the positive correlation, which means that cars with high battery capacity tends to have a longer driving range.\n",
    "  \n",
    "* Vehicles with battery capacities between 40-80 kWh show a wide range of values in the term of range (200 km to over 500 km).\n",
    "\n",
    "  \n",
    "* The highest battery-capacity EVs (near 100kWh) tends to offer more than 500 km of range.\n",
    "\n",
    "  \n",
    "* Diminishing Result: As battery capacity increases beyond certain point (80 - 100 kWh), the increase in range is not as steep, suggesting diminishing returns on  range improvements per additional kWh. "
   ]
  },
  {
   "cell_type": "markdown",
   "id": "156125f4-be16-4819-8e1c-66a9a501877c",
   "metadata": {},
   "source": [
    "# Task 4 "
   ]
  },
  {
   "cell_type": "markdown",
   "id": "3136bb61-a68f-4f66-993c-495138e1b692",
   "metadata": {},
   "source": [
    " Build an EV recommendation class. The class should allow users to input their budget, desired range, and battery capacity. \n",
    " The class should then return the top three EVs matching their criteria. "
   ]
  },
  {
   "cell_type": "code",
   "execution_count": 111,
   "id": "292f546b-dfd0-49d4-9995-3bc77d8a5c04",
   "metadata": {},
   "outputs": [],
   "source": [
    "class EV_Recommendation:\n",
    "\n",
    "    def __init__(self, fev_df):\n",
    "        self.fev_df = fev_df\n",
    "\n",
    "    def Recommend (self, budget, desired_range, battery_capacity):\n",
    "        recommendations = self.fev_df[ \n",
    "                                      (self.fev_df[\"Minimal price (gross) [PLN]\"] <= budget) & \n",
    "                                      (self.fev_df[\"Range (WLTP) [km]\"] >= desired_range) &\n",
    "                                      (self.fev_df[\"Battery capacity [kWh]\"] >= battery_capacity)         \n",
    "                                     ]\n",
    "\n",
    "        Top_3_Recommend_EVs = recommendations.sort_values(by= [ \"Range (WLTP) [km]\", \"Battery capacity [kWh]\"], ascending=False)\n",
    "        return Top_3_Recommend_EVs.head(3)\n",
    "        \n"
   ]
  },
  {
   "cell_type": "code",
   "execution_count": 113,
   "id": "2c2e11f7-11f6-4e66-820c-549dd50fc06e",
   "metadata": {},
   "outputs": [],
   "source": [
    "# Object Creation\n",
    "ev_recommendor = EV_Recommendation(fev_df)"
   ]
  },
  {
   "cell_type": "code",
   "execution_count": 123,
   "id": "c1eccb3f-b3f9-4295-81f0-858aea4cb87a",
   "metadata": {},
   "outputs": [
    {
     "data": {
      "text/html": [
       "<div>\n",
       "<style scoped>\n",
       "    .dataframe tbody tr th:only-of-type {\n",
       "        vertical-align: middle;\n",
       "    }\n",
       "\n",
       "    .dataframe tbody tr th {\n",
       "        vertical-align: top;\n",
       "    }\n",
       "\n",
       "    .dataframe thead th {\n",
       "        text-align: right;\n",
       "    }\n",
       "</style>\n",
       "<table border=\"1\" class=\"dataframe\">\n",
       "  <thead>\n",
       "    <tr style=\"text-align: right;\">\n",
       "      <th></th>\n",
       "      <th>Car full name</th>\n",
       "      <th>Make</th>\n",
       "      <th>Model</th>\n",
       "      <th>Minimal price (gross) [PLN]</th>\n",
       "      <th>Engine power [KM]</th>\n",
       "      <th>Maximum torque [Nm]</th>\n",
       "      <th>Type of brakes</th>\n",
       "      <th>Drive type</th>\n",
       "      <th>Battery capacity [kWh]</th>\n",
       "      <th>Range (WLTP) [km]</th>\n",
       "      <th>...</th>\n",
       "      <th>Permissable gross weight [kg]</th>\n",
       "      <th>Maximum load capacity [kg]</th>\n",
       "      <th>Number of seats</th>\n",
       "      <th>Number of doors</th>\n",
       "      <th>Tire size [in]</th>\n",
       "      <th>Maximum speed [kph]</th>\n",
       "      <th>Boot capacity (VDA) [l]</th>\n",
       "      <th>Acceleration 0-100 kph [s]</th>\n",
       "      <th>Maximum DC charging power [kW]</th>\n",
       "      <th>mean - Energy consumption [kWh/100 km]</th>\n",
       "    </tr>\n",
       "  </thead>\n",
       "  <tbody>\n",
       "    <tr>\n",
       "      <th>40</th>\n",
       "      <td>Tesla Model 3 Long Range</td>\n",
       "      <td>Tesla</td>\n",
       "      <td>Model 3 Long Range</td>\n",
       "      <td>235490</td>\n",
       "      <td>372</td>\n",
       "      <td>510</td>\n",
       "      <td>disc (front + rear)</td>\n",
       "      <td>4WD</td>\n",
       "      <td>75.0</td>\n",
       "      <td>580</td>\n",
       "      <td>...</td>\n",
       "      <td>NaN</td>\n",
       "      <td>NaN</td>\n",
       "      <td>5</td>\n",
       "      <td>5</td>\n",
       "      <td>18</td>\n",
       "      <td>233</td>\n",
       "      <td>425.0</td>\n",
       "      <td>4.4</td>\n",
       "      <td>150</td>\n",
       "      <td>NaN</td>\n",
       "    </tr>\n",
       "    <tr>\n",
       "      <th>41</th>\n",
       "      <td>Tesla Model 3 Performance</td>\n",
       "      <td>Tesla</td>\n",
       "      <td>Model 3 Performance</td>\n",
       "      <td>260490</td>\n",
       "      <td>480</td>\n",
       "      <td>639</td>\n",
       "      <td>disc (front + rear)</td>\n",
       "      <td>4WD</td>\n",
       "      <td>75.0</td>\n",
       "      <td>567</td>\n",
       "      <td>...</td>\n",
       "      <td>NaN</td>\n",
       "      <td>NaN</td>\n",
       "      <td>5</td>\n",
       "      <td>5</td>\n",
       "      <td>20</td>\n",
       "      <td>261</td>\n",
       "      <td>425.0</td>\n",
       "      <td>3.3</td>\n",
       "      <td>150</td>\n",
       "      <td>NaN</td>\n",
       "    </tr>\n",
       "    <tr>\n",
       "      <th>48</th>\n",
       "      <td>Volkswagen ID.3 Pro S</td>\n",
       "      <td>Volkswagen</td>\n",
       "      <td>ID.3 Pro S</td>\n",
       "      <td>179990</td>\n",
       "      <td>204</td>\n",
       "      <td>310</td>\n",
       "      <td>disc (front) + drum (rear)</td>\n",
       "      <td>2WD (rear)</td>\n",
       "      <td>77.0</td>\n",
       "      <td>549</td>\n",
       "      <td>...</td>\n",
       "      <td>2280.0</td>\n",
       "      <td>412.0</td>\n",
       "      <td>5</td>\n",
       "      <td>5</td>\n",
       "      <td>19</td>\n",
       "      <td>160</td>\n",
       "      <td>385.0</td>\n",
       "      <td>7.9</td>\n",
       "      <td>125</td>\n",
       "      <td>15.9</td>\n",
       "    </tr>\n",
       "  </tbody>\n",
       "</table>\n",
       "<p>3 rows × 25 columns</p>\n",
       "</div>"
      ],
      "text/plain": [
       "                Car full name        Make                Model  \\\n",
       "40   Tesla Model 3 Long Range       Tesla   Model 3 Long Range   \n",
       "41  Tesla Model 3 Performance       Tesla  Model 3 Performance   \n",
       "48      Volkswagen ID.3 Pro S  Volkswagen           ID.3 Pro S   \n",
       "\n",
       "    Minimal price (gross) [PLN]  Engine power [KM]  Maximum torque [Nm]  \\\n",
       "40                       235490                372                  510   \n",
       "41                       260490                480                  639   \n",
       "48                       179990                204                  310   \n",
       "\n",
       "                Type of brakes  Drive type  Battery capacity [kWh]  \\\n",
       "40         disc (front + rear)         4WD                    75.0   \n",
       "41         disc (front + rear)         4WD                    75.0   \n",
       "48  disc (front) + drum (rear)  2WD (rear)                    77.0   \n",
       "\n",
       "    Range (WLTP) [km]  ...  Permissable gross weight [kg]  \\\n",
       "40                580  ...                            NaN   \n",
       "41                567  ...                            NaN   \n",
       "48                549  ...                         2280.0   \n",
       "\n",
       "    Maximum load capacity [kg]  Number of seats  Number of doors  \\\n",
       "40                         NaN                5                5   \n",
       "41                         NaN                5                5   \n",
       "48                       412.0                5                5   \n",
       "\n",
       "    Tire size [in]  Maximum speed [kph]  Boot capacity (VDA) [l]  \\\n",
       "40              18                  233                    425.0   \n",
       "41              20                  261                    425.0   \n",
       "48              19                  160                    385.0   \n",
       "\n",
       "    Acceleration 0-100 kph [s]  Maximum DC charging power [kW]  \\\n",
       "40                         4.4                             150   \n",
       "41                         3.3                             150   \n",
       "48                         7.9                             125   \n",
       "\n",
       "    mean - Energy consumption [kWh/100 km]  \n",
       "40                                     NaN  \n",
       "41                                     NaN  \n",
       "48                                    15.9  \n",
       "\n",
       "[3 rows x 25 columns]"
      ]
     },
     "execution_count": 123,
     "metadata": {},
     "output_type": "execute_result"
    }
   ],
   "source": [
    "ev_recommendor.Recommend(300000,400,70)"
   ]
  },
  {
   "cell_type": "markdown",
   "id": "9f905d3c-313f-45c5-88fa-28c772ffb936",
   "metadata": {},
   "source": [
    "Insights \n",
    "\n",
    "* The EV_Recommendation Class filters and ranks EVs based on user inputs, which allow the users a customized recommendation based on budget, range and battery capacity. Sorting by range and battery capacity ensures customers get the best value.\n",
    "   \n",
    "* Cost and Features: The recommendation system enables users to find a balance between price and performance (such as range and battery capacity). Users with a stricter budget will see less expensive options, while those who are open to spending more can explore EVs with greater battery capacities and extended ranges.\n",
    "\n",
    "\n",
    "* Range and Battery Capacity as Essential Factors:  For the majority of EV buyers, range and battery capacity are significant aspects to consider during the decision-making process. This class emphasizes these factors in the recommendations, showing how these features matters most potential EV owners.\n",
    "\n",
    "  \n",
    "* Car dealerships and online platforms can integrate such recommendations to enhance customer experience."
   ]
  },
  {
   "cell_type": "markdown",
   "id": "8d5aef0a-220f-423a-af64-63cda3ec2d9b",
   "metadata": {},
   "source": [
    "# Task 5 "
   ]
  },
  {
   "cell_type": "markdown",
   "id": "07188e37-06bd-4c98-a82d-1a4db6d04978",
   "metadata": {},
   "source": [
    " Inferential Statistics– Hypothesis Testing: Test whether there is a significant\n",
    " difference in the average Engine power [KM] of vehicles manufactured by two leading\n",
    " manufacturers i.e. Tesla and Audi. What insights can you draw from the test results?\n",
    " Recommendations and Conclusion: Provide actionable insights based on your analysis.\n",
    " (Conduct a two sample t-test using ttest_ind from scipy.stats module)"
   ]
  },
  {
   "cell_type": "code",
   "execution_count": 129,
   "id": "3c8fb5db-44ed-4802-bc51-d29e8d16d9c4",
   "metadata": {},
   "outputs": [
    {
     "name": "stdout",
     "output_type": "stream",
     "text": [
      "T-statistic : 1.7024444538261416, P-value : 0.11672692675082785\n",
      "Fail to Reject Null Hypothesis\n"
     ]
    }
   ],
   "source": [
    "# for Hypothesis testing , I claim that:\n",
    "\n",
    "#   Null Hypothesis:         H0 = There is no significant difference between avg engine power of Tesla and Audi. \n",
    "#   Alternative Hypothesis:  H1 = There is a significant difference between avg engine power of Tesla and Audi.\n",
    "\n",
    "# If P-value <= 0.05 then I need to reject null hypothesis and if P- value is >= 0.05 then I fail to reject null hypothesis.\n",
    "\n",
    "\n",
    "Tesla_enginepower= fev_df[fev_df[\"Make\"] == \"Tesla\"][\"Engine power [KM]\"]\n",
    "\n",
    "Audi_enginepower = fev_df[fev_df[\"Make\"] == \"Audi\"][\"Engine power [KM]\"]\n",
    "\n",
    "t_stat , p_value = stats.ttest_ind(Tesla_enginepower,Audi_enginepower)\n",
    "\n",
    "print(f\"T-statistic : {t_stat}, P-value : {p_value}\")\n",
    "\n",
    "alpha= 0.05           # significance level\n",
    "if p_value < alpha :\n",
    "    print(\"Reject Null Hypothesis\")\n",
    "else :\n",
    "    print(\"Fail to Reject Null Hypothesis\")\n",
    "    "
   ]
  },
  {
   "cell_type": "markdown",
   "id": "12dd0349-05c7-4cf0-a849-a314896d4086",
   "metadata": {},
   "source": [
    "   Result \n",
    "* T- Statistic =  1.70\n",
    "* P- Value = 0.11 \n",
    "* Since the p-value(0.1167) is greater than significance level (0.05), we fail to reject the null hypothesis.\n",
    "* This means there is no any statistically significant difference in the average engine power between Tesla and Audi EVs."
   ]
  },
  {
   "cell_type": "markdown",
   "id": "dec792ac-ee18-4e53-b150-914f9dbf7f81",
   "metadata": {},
   "source": [
    "Insights:\n",
    "\n",
    "* The average engine power of Tesla and Audi EVs is very similar, which means that statistically both brands offer similar performance in terms of engine power.\n",
    "\n",
    "* Since engine power does not appear to significantly differ between Tesla and Audi EVs, other factors such as range, battery capacity, charging speed, price, and interior features could be more important in influencing a customer's purchasing decision.\n",
    "\n",
    "* The lack of significant difference indicate that both brands are aligned in terms of technological advancement, at least regarding engine power.\n"
   ]
  },
  {
   "cell_type": "markdown",
   "id": "bad94486-b13e-4334-98a9-cfe4e807dba5",
   "metadata": {},
   "source": [
    "Recommendation and Conclusion :\n",
    "* There is no significant difference in engine power between Tesla and Audi EVs, suggesting that performances based on engine power should not be a deciding factor for customers choosing between these two brands. So on choosing between Tesla and Audi EVs, buyer may prioritize other factors beyond engine power, such as range, price and battery capacity, since there is no significant difference in engine power. It could be worthwhile for customers to evaluate other performance metric such as how the car handle on the road, their acceleration and overall driving experience.\n",
    "\n",
    "* Both Tesla and Audi could highlight other differentiating features in their marketing and sales strategies, such as good battery technology, longer range or faster charging speeds etc. So focusing on these attributes could give a competitive edge. "
   ]
  },
  {
   "cell_type": "markdown",
   "id": "270ad0f9-b6d7-49e5-a87d-131b4ef513d8",
   "metadata": {},
   "source": [
    "# Task 6"
   ]
  },
  {
   "cell_type": "markdown",
   "id": "876b92c4-317d-46a9-9bdf-ad6c3075ee35",
   "metadata": {},
   "source": [
    "https://drive.google.com/file/d/1e0EDkYGQhIBz50RA8nrt8zs32pOGkFBf/view?usp=sharing"
   ]
  },
  {
   "cell_type": "code",
   "execution_count": null,
   "id": "e45ea57b-4e7d-424b-a051-bae89e6dfe2e",
   "metadata": {},
   "outputs": [],
   "source": []
  }
 ],
 "metadata": {
  "kernelspec": {
   "display_name": "Python [conda env:base] *",
   "language": "python",
   "name": "conda-base-py"
  },
  "language_info": {
   "codemirror_mode": {
    "name": "ipython",
    "version": 3
   },
   "file_extension": ".py",
   "mimetype": "text/x-python",
   "name": "python",
   "nbconvert_exporter": "python",
   "pygments_lexer": "ipython3",
   "version": "3.12.7"
  }
 },
 "nbformat": 4,
 "nbformat_minor": 5
}
